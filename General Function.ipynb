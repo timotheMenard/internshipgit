{
 "cells": [
  {
   "cell_type": "code",
   "execution_count": 47,
   "metadata": {},
   "outputs": [],
   "source": [
    "using HomotopyContinuation, DynamicPolynomials\n",
    "using Plots"
   ]
  },
  {
   "cell_type": "code",
   "execution_count": 48,
   "metadata": {},
   "outputs": [
    {
     "data": {
      "text/plain": [
       "get_norm (generic function with 1 method)"
      ]
     },
     "execution_count": 48,
     "metadata": {},
     "output_type": "execute_result"
    }
   ],
   "source": [
    "#generates a random number between -n and n\n",
    "function genrand(n)\n",
    "    return rand()*n*2 - n\n",
    "end\n",
    "\n",
    "#creates a random polynomial with coeffcients between -n and n and with varsnum number of variables\n",
    "function get_random_polynomial(varsnum,n)\n",
    "    @polyvar x[1:varsnum]\n",
    "    p = genrand(n)\n",
    "    for i in 1:varsnum\n",
    "        p += genrand(n) * x[i]^2\n",
    "        p += genrand(n) * x[i]\n",
    "        for j in i+1:varsnum\n",
    "            p += genrand(n) * x[i] * x[j]\n",
    "        end\n",
    "    end\n",
    "    \n",
    "    return p,x\n",
    "end\n",
    "\n",
    "#takes the norm of a polynomial by squarring the coefficients\n",
    "function get_norm(p)\n",
    "    normop = norm(MultivariatePolynomials.coefficients(p))\n",
    "    return normop\n",
    "end"
   ]
  },
  {
   "cell_type": "markdown",
   "metadata": {},
   "source": [
    "The function below takes a polynomial \"originalpolynomial\" and the variables of the polynomial as a list \"x\"\n",
    "then it finds the closest polynomial q to the originalpolynomial such that q has a low chow rank"
   ]
  },
  {
   "cell_type": "code",
   "execution_count": 49,
   "metadata": {
    "scrolled": false
   },
   "outputs": [
    {
     "data": {
      "text/plain": [
       "general_function (generic function with 1 method)"
      ]
     },
     "execution_count": 49,
     "metadata": {},
     "output_type": "execute_result"
    }
   ],
   "source": [
    "#Just setting a1=1\n",
    "#can make this faster by computing the alpha*beta only once and keeping it, even the system\n",
    "\n",
    "function general_function(originalpolynomial, x)\n",
    "    #setup the starting variables\n",
    "    numberofa = nvariables(originalpolynomial)\n",
    "    \n",
    "    #setup our varibales to create the function to minimise and set a1=1\n",
    "    @var a[1:numberofa] b[1:numberofa+1]\n",
    "    \n",
    "    #get the equations for our function to minimise\n",
    "    alpha = x[1] + sum([a[i]*x[i+1] for i in 1:numberofa-1]) + a[numberofa]\n",
    "    beta = sum([b[i]*x[i] for i in 1:numberofa]) + b[numberofa+1]\n",
    "    p = alpha*beta\n",
    "    \n",
    "    #find our a1,...,bn coefficients\n",
    "    coefsinp = coefficients(p)\n",
    "    #Get our coeffs from originalpolynomial\n",
    "    coeffs = MultivariatePolynomials.coefficients(originalpolynomial)\n",
    "    numberofcoeffs = length(coeffs)\n",
    "    \n",
    "    #setup the function to minimise\n",
    "    mainfunc = sum([(coeffs[i] - (coefsinp[i]))^2 for i in 1:numberofcoeffs])\n",
    "    \n",
    "    #get the gradient\n",
    "    J = differentiate(mainfunc, vcat(a,b)) # vcat(a,b) : concat of vars a and b\n",
    "    \n",
    "    #set a system\n",
    "    system = System(J; variables = vcat(a,b))\n",
    "    \n",
    "    #solve the system and get the real solutions\n",
    "    result = solve(system; show_progress= false)\n",
    "    real_sols = real_solutions(result; tol=1e-5)\n",
    "    \n",
    "    #test if there are results, if not return false\n",
    "    if real_sols == []\n",
    "        return false, 0\n",
    "    end\n",
    "    \n",
    "    #find the minimum point using the function that we want to minimize \n",
    "    _, minindex = findmin(map(s -> evaluate(mainfunc, a=>s[1:numberofa], b=>s[numberofa+1:(numberofa*2)+1]), real_sols))\n",
    "    minarg = real_sols[minindex]\n",
    "    \n",
    "    #setup the polynomial output\n",
    "    alphaout = x[1] + sum([x[i+1]*minarg[i] for i in 1:numberofa-1]) + minarg[numberofa]\n",
    "    betaout = sum([x[i-numberofa]*minarg[i] for i in numberofa+1:(numberofa*2)]) + minarg[(numberofa*2)+1]\n",
    "    \n",
    "    return alphaout, betaout\n",
    "    \n",
    "end"
   ]
  },
  {
   "cell_type": "markdown",
   "metadata": {},
   "source": [
    "### The function below creates a graph where we the number of loops needed to reach a certain threshold(y) vs\n",
    "the number of variables in the polynomial(x) <br>\n",
    "- tolerance : the tolerance that you want to achieve\n",
    "- maxvars : how man variables does the graph go through, so if maxvars=3 then it will try with 1,2 and 3\n",
    "- loops : the number of tests with different polynomials for each number of variable\n",
    "- stop : the number of times the iteration function stopped because it either cant find an answer or had done too many loops (it is set at 40)\n",
    "- startrange : what should be the range of the coefficients to generate the random polynomial\n",
    "- allvar : lowers the value of the range as more variables are added"
   ]
  },
  {
   "cell_type": "code",
   "execution_count": 50,
   "metadata": {},
   "outputs": [
    {
     "name": "stdout",
     "output_type": "stream",
     "text": [
      "+++++++++++++++Stopped: [0.0, 0.0, 0.0]\n"
     ]
    },
    {
     "data": {
      "image/svg+xml": [
       "<?xml version=\"1.0\" encoding=\"utf-8\"?>\n",
       "<svg xmlns=\"http://www.w3.org/2000/svg\" xmlns:xlink=\"http://www.w3.org/1999/xlink\" width=\"600\" height=\"400\" viewBox=\"0 0 2400 1600\">\n",
       "<defs>\n",
       "  <clipPath id=\"clip330\">\n",
       "    <rect x=\"0\" y=\"0\" width=\"2400\" height=\"1600\"/>\n",
       "  </clipPath>\n",
       "</defs>\n",
       "<path clip-path=\"url(#clip330)\" d=\"\n",
       "M0 1600 L2400 1600 L2400 0 L0 0  Z\n",
       "  \" fill=\"#ffffff\" fill-rule=\"evenodd\" fill-opacity=\"1\"/>\n",
       "<defs>\n",
       "  <clipPath id=\"clip331\">\n",
       "    <rect x=\"480\" y=\"0\" width=\"1681\" height=\"1600\"/>\n",
       "  </clipPath>\n",
       "</defs>\n",
       "<path clip-path=\"url(#clip330)\" d=\"\n",
       "M112.177 1486.45 L2352.76 1486.45 L2352.76 47.2441 L112.177 47.2441  Z\n",
       "  \" fill=\"#ffffff\" fill-rule=\"evenodd\" fill-opacity=\"1\"/>\n",
       "<defs>\n",
       "  <clipPath id=\"clip332\">\n",
       "    <rect x=\"112\" y=\"47\" width=\"2242\" height=\"1440\"/>\n",
       "  </clipPath>\n",
       "</defs>\n",
       "<polyline clip-path=\"url(#clip332)\" style=\"stroke:#000000; stroke-linecap:round; stroke-linejoin:round; stroke-width:2; stroke-opacity:0.1; fill:none\" points=\"\n",
       "  175.59,1486.45 175.59,47.2441 \n",
       "  \"/>\n",
       "<polyline clip-path=\"url(#clip332)\" style=\"stroke:#000000; stroke-linecap:round; stroke-linejoin:round; stroke-width:2; stroke-opacity:0.1; fill:none\" points=\"\n",
       "  880.174,1486.45 880.174,47.2441 \n",
       "  \"/>\n",
       "<polyline clip-path=\"url(#clip332)\" style=\"stroke:#000000; stroke-linecap:round; stroke-linejoin:round; stroke-width:2; stroke-opacity:0.1; fill:none\" points=\"\n",
       "  1584.76,1486.45 1584.76,47.2441 \n",
       "  \"/>\n",
       "<polyline clip-path=\"url(#clip332)\" style=\"stroke:#000000; stroke-linecap:round; stroke-linejoin:round; stroke-width:2; stroke-opacity:0.1; fill:none\" points=\"\n",
       "  2289.34,1486.45 2289.34,47.2441 \n",
       "  \"/>\n",
       "<polyline clip-path=\"url(#clip330)\" style=\"stroke:#000000; stroke-linecap:round; stroke-linejoin:round; stroke-width:4; stroke-opacity:1; fill:none\" points=\"\n",
       "  112.177,1486.45 2352.76,1486.45 \n",
       "  \"/>\n",
       "<polyline clip-path=\"url(#clip330)\" style=\"stroke:#000000; stroke-linecap:round; stroke-linejoin:round; stroke-width:4; stroke-opacity:1; fill:none\" points=\"\n",
       "  175.59,1486.45 175.59,1467.55 \n",
       "  \"/>\n",
       "<polyline clip-path=\"url(#clip330)\" style=\"stroke:#000000; stroke-linecap:round; stroke-linejoin:round; stroke-width:4; stroke-opacity:1; fill:none\" points=\"\n",
       "  880.174,1486.45 880.174,1467.55 \n",
       "  \"/>\n",
       "<polyline clip-path=\"url(#clip330)\" style=\"stroke:#000000; stroke-linecap:round; stroke-linejoin:round; stroke-width:4; stroke-opacity:1; fill:none\" points=\"\n",
       "  1584.76,1486.45 1584.76,1467.55 \n",
       "  \"/>\n",
       "<polyline clip-path=\"url(#clip330)\" style=\"stroke:#000000; stroke-linecap:round; stroke-linejoin:round; stroke-width:4; stroke-opacity:1; fill:none\" points=\"\n",
       "  2289.34,1486.45 2289.34,1467.55 \n",
       "  \"/>\n",
       "<path clip-path=\"url(#clip330)\" d=\"M175.59 1517.37 Q171.979 1517.37 170.15 1520.93 Q168.344 1524.47 168.344 1531.6 Q168.344 1538.71 170.15 1542.27 Q171.979 1545.82 175.59 1545.82 Q179.224 1545.82 181.03 1542.27 Q182.858 1538.71 182.858 1531.6 Q182.858 1524.47 181.03 1520.93 Q179.224 1517.37 175.59 1517.37 M175.59 1513.66 Q181.4 1513.66 184.455 1518.27 Q187.534 1522.85 187.534 1531.6 Q187.534 1540.33 184.455 1544.94 Q181.4 1549.52 175.59 1549.52 Q169.78 1549.52 166.701 1544.94 Q163.645 1540.33 163.645 1531.6 Q163.645 1522.85 166.701 1518.27 Q169.78 1513.66 175.59 1513.66 Z\" fill=\"#000000\" fill-rule=\"evenodd\" fill-opacity=\"1\" /><path clip-path=\"url(#clip330)\" d=\"M870.556 1544.91 L878.195 1544.91 L878.195 1518.55 L869.885 1520.21 L869.885 1515.95 L878.149 1514.29 L882.825 1514.29 L882.825 1544.91 L890.464 1544.91 L890.464 1548.85 L870.556 1548.85 L870.556 1544.91 Z\" fill=\"#000000\" fill-rule=\"evenodd\" fill-opacity=\"1\" /><path clip-path=\"url(#clip330)\" d=\"M1579.41 1544.91 L1595.73 1544.91 L1595.73 1548.85 L1573.79 1548.85 L1573.79 1544.91 Q1576.45 1542.16 1581.03 1537.53 Q1585.64 1532.88 1586.82 1531.53 Q1589.06 1529.01 1589.94 1527.27 Q1590.85 1525.51 1590.85 1523.82 Q1590.85 1521.07 1588.9 1519.33 Q1586.98 1517.6 1583.88 1517.6 Q1581.68 1517.6 1579.23 1518.36 Q1576.8 1519.13 1574.02 1520.68 L1574.02 1515.95 Q1576.84 1514.82 1579.3 1514.24 Q1581.75 1513.66 1583.79 1513.66 Q1589.16 1513.66 1592.35 1516.35 Q1595.55 1519.03 1595.55 1523.52 Q1595.55 1525.65 1594.74 1527.57 Q1593.95 1529.47 1591.84 1532.07 Q1591.26 1532.74 1588.16 1535.95 Q1585.06 1539.15 1579.41 1544.91 Z\" fill=\"#000000\" fill-rule=\"evenodd\" fill-opacity=\"1\" /><path clip-path=\"url(#clip330)\" d=\"M2293.59 1530.21 Q2296.95 1530.93 2298.82 1533.2 Q2300.72 1535.47 2300.72 1538.8 Q2300.72 1543.92 2297.2 1546.72 Q2293.68 1549.52 2287.2 1549.52 Q2285.03 1549.52 2282.71 1549.08 Q2280.42 1548.66 2277.97 1547.81 L2277.97 1543.29 Q2279.91 1544.43 2282.23 1545.01 Q2284.54 1545.58 2287.06 1545.58 Q2291.46 1545.58 2293.75 1543.85 Q2296.07 1542.11 2296.07 1538.8 Q2296.07 1535.75 2293.92 1534.03 Q2291.79 1532.3 2287.97 1532.3 L2283.94 1532.3 L2283.94 1528.45 L2288.15 1528.45 Q2291.6 1528.45 2293.43 1527.09 Q2295.26 1525.7 2295.26 1523.11 Q2295.26 1520.45 2293.36 1519.03 Q2291.48 1517.6 2287.97 1517.6 Q2286.04 1517.6 2283.85 1518.01 Q2281.65 1518.43 2279.01 1519.31 L2279.01 1515.14 Q2281.67 1514.4 2283.98 1514.03 Q2286.32 1513.66 2288.38 1513.66 Q2293.71 1513.66 2296.81 1516.09 Q2299.91 1518.5 2299.91 1522.62 Q2299.91 1525.49 2298.27 1527.48 Q2296.62 1529.45 2293.59 1530.21 Z\" fill=\"#000000\" fill-rule=\"evenodd\" fill-opacity=\"1\" /><polyline clip-path=\"url(#clip332)\" style=\"stroke:#000000; stroke-linecap:round; stroke-linejoin:round; stroke-width:2; stroke-opacity:0.1; fill:none\" points=\"\n",
       "  112.177,1374.26 2352.76,1374.26 \n",
       "  \"/>\n",
       "<polyline clip-path=\"url(#clip332)\" style=\"stroke:#000000; stroke-linecap:round; stroke-linejoin:round; stroke-width:2; stroke-opacity:0.1; fill:none\" points=\"\n",
       "  112.177,1016.96 2352.76,1016.96 \n",
       "  \"/>\n",
       "<polyline clip-path=\"url(#clip332)\" style=\"stroke:#000000; stroke-linecap:round; stroke-linejoin:round; stroke-width:2; stroke-opacity:0.1; fill:none\" points=\"\n",
       "  112.177,659.656 2352.76,659.656 \n",
       "  \"/>\n",
       "<polyline clip-path=\"url(#clip332)\" style=\"stroke:#000000; stroke-linecap:round; stroke-linejoin:round; stroke-width:2; stroke-opacity:0.1; fill:none\" points=\"\n",
       "  112.177,302.356 2352.76,302.356 \n",
       "  \"/>\n",
       "<polyline clip-path=\"url(#clip330)\" style=\"stroke:#000000; stroke-linecap:round; stroke-linejoin:round; stroke-width:4; stroke-opacity:1; fill:none\" points=\"\n",
       "  112.177,1486.45 112.177,47.2441 \n",
       "  \"/>\n",
       "<polyline clip-path=\"url(#clip330)\" style=\"stroke:#000000; stroke-linecap:round; stroke-linejoin:round; stroke-width:4; stroke-opacity:1; fill:none\" points=\"\n",
       "  112.177,1374.26 131.075,1374.26 \n",
       "  \"/>\n",
       "<polyline clip-path=\"url(#clip330)\" style=\"stroke:#000000; stroke-linecap:round; stroke-linejoin:round; stroke-width:4; stroke-opacity:1; fill:none\" points=\"\n",
       "  112.177,1016.96 131.075,1016.96 \n",
       "  \"/>\n",
       "<polyline clip-path=\"url(#clip330)\" style=\"stroke:#000000; stroke-linecap:round; stroke-linejoin:round; stroke-width:4; stroke-opacity:1; fill:none\" points=\"\n",
       "  112.177,659.656 131.075,659.656 \n",
       "  \"/>\n",
       "<polyline clip-path=\"url(#clip330)\" style=\"stroke:#000000; stroke-linecap:round; stroke-linejoin:round; stroke-width:4; stroke-opacity:1; fill:none\" points=\"\n",
       "  112.177,302.356 131.075,302.356 \n",
       "  \"/>\n",
       "<path clip-path=\"url(#clip330)\" d=\"M59.8578 1387.6 L76.1772 1387.6 L76.1772 1391.54 L54.2328 1391.54 L54.2328 1387.6 Q56.8949 1384.85 61.4782 1380.22 Q66.0846 1375.56 67.2652 1374.22 Q69.5105 1371.7 70.3902 1369.96 Q71.2929 1368.2 71.2929 1366.51 Q71.2929 1363.76 69.3485 1362.02 Q67.4272 1360.29 64.3254 1360.29 Q62.1263 1360.29 59.6726 1361.05 Q57.2421 1361.81 54.4643 1363.36 L54.4643 1358.64 Q57.2884 1357.51 59.7421 1356.93 Q62.1958 1356.35 64.2328 1356.35 Q69.6031 1356.35 72.7976 1359.04 Q75.992 1361.72 75.992 1366.21 Q75.992 1368.34 75.1818 1370.26 Q74.3948 1372.16 72.2883 1374.75 Q71.7096 1375.42 68.6078 1378.64 Q65.5059 1381.84 59.8578 1387.6 Z\" fill=\"#000000\" fill-rule=\"evenodd\" fill-opacity=\"1\" /><path clip-path=\"url(#clip330)\" d=\"M66.5939 1003.75 L54.7884 1022.2 L66.5939 1022.2 L66.5939 1003.75 M65.367 999.676 L71.2466 999.676 L71.2466 1022.2 L76.1772 1022.2 L76.1772 1026.09 L71.2466 1026.09 L71.2466 1034.24 L66.5939 1034.24 L66.5939 1026.09 L50.9921 1026.09 L50.9921 1021.57 L65.367 999.676 Z\" fill=\"#000000\" fill-rule=\"evenodd\" fill-opacity=\"1\" /><path clip-path=\"url(#clip330)\" d=\"M64.6495 657.793 Q61.5013 657.793 59.6495 659.945 Q57.8208 662.098 57.8208 665.848 Q57.8208 669.575 59.6495 671.751 Q61.5013 673.904 64.6495 673.904 Q67.7976 673.904 69.6263 671.751 Q71.4781 669.575 71.4781 665.848 Q71.4781 662.098 69.6263 659.945 Q67.7976 657.793 64.6495 657.793 M73.9318 643.14 L73.9318 647.399 Q72.1726 646.566 70.367 646.126 Q68.5846 645.686 66.8254 645.686 Q62.1958 645.686 59.7421 648.811 Q57.3115 651.936 56.9643 658.256 Q58.33 656.242 60.3902 655.177 Q62.4504 654.089 64.9272 654.089 Q70.1355 654.089 73.1448 657.26 Q76.1772 660.408 76.1772 665.848 Q76.1772 671.172 73.029 674.39 Q69.8809 677.607 64.6495 677.607 Q58.6541 677.607 55.4828 673.024 Q52.3116 668.418 52.3116 659.691 Q52.3116 651.496 56.2004 646.635 Q60.0893 641.751 66.6402 641.751 Q68.3994 641.751 70.1818 642.098 Q71.9874 642.445 73.9318 643.14 Z\" fill=\"#000000\" fill-rule=\"evenodd\" fill-opacity=\"1\" /><path clip-path=\"url(#clip330)\" d=\"M64.3254 303.224 Q60.9921 303.224 59.0708 305.007 Q57.1726 306.789 57.1726 309.914 Q57.1726 313.039 59.0708 314.821 Q60.9921 316.604 64.3254 316.604 Q67.6587 316.604 69.58 314.821 Q71.5013 313.016 71.5013 309.914 Q71.5013 306.789 69.58 305.007 Q67.6819 303.224 64.3254 303.224 M59.6495 301.234 Q56.6402 300.493 54.9504 298.433 Q53.2838 296.372 53.2838 293.409 Q53.2838 289.266 56.2236 286.859 Q59.1865 284.451 64.3254 284.451 Q69.4874 284.451 72.4272 286.859 Q75.367 289.266 75.367 293.409 Q75.367 296.372 73.6772 298.433 Q72.0105 300.493 69.0244 301.234 Q72.404 302.021 74.279 304.312 Q76.1772 306.604 76.1772 309.914 Q76.1772 314.937 73.0985 317.622 Q70.0429 320.307 64.3254 320.307 Q58.6078 320.307 55.5291 317.622 Q52.4736 314.937 52.4736 309.914 Q52.4736 306.604 54.3717 304.312 Q56.2699 302.021 59.6495 301.234 M57.9365 293.849 Q57.9365 296.534 59.6032 298.039 Q61.293 299.544 64.3254 299.544 Q67.3346 299.544 69.0244 298.039 Q70.7374 296.534 70.7374 293.849 Q70.7374 291.164 69.0244 289.659 Q67.3346 288.155 64.3254 288.155 Q61.293 288.155 59.6032 289.659 Q57.9365 291.164 57.9365 293.849 Z\" fill=\"#000000\" fill-rule=\"evenodd\" fill-opacity=\"1\" /><polyline clip-path=\"url(#clip332)\" style=\"stroke:#009af9; stroke-linecap:round; stroke-linejoin:round; stroke-width:4; stroke-opacity:1; fill:none\" points=\"\n",
       "  175.59,1445.72 1232.47,802.576 2289.34,87.9763 \n",
       "  \"/>\n",
       "<path clip-path=\"url(#clip330)\" d=\"\n",
       "M186.863 198.898 L463.351 198.898 L463.351 95.2176 L186.863 95.2176  Z\n",
       "  \" fill=\"#ffffff\" fill-rule=\"evenodd\" fill-opacity=\"1\"/>\n",
       "<polyline clip-path=\"url(#clip330)\" style=\"stroke:#000000; stroke-linecap:round; stroke-linejoin:round; stroke-width:4; stroke-opacity:1; fill:none\" points=\"\n",
       "  186.863,198.898 463.351,198.898 463.351,95.2176 186.863,95.2176 186.863,198.898 \n",
       "  \"/>\n",
       "<polyline clip-path=\"url(#clip330)\" style=\"stroke:#009af9; stroke-linecap:round; stroke-linejoin:round; stroke-width:4; stroke-opacity:1; fill:none\" points=\"\n",
       "  211.758,147.058 361.13,147.058 \n",
       "  \"/>\n",
       "<path clip-path=\"url(#clip330)\" d=\"M399.868 166.745 Q398.063 171.375 396.35 172.787 Q394.637 174.199 391.766 174.199 L388.364 174.199 L388.364 170.634 L390.864 170.634 Q392.623 170.634 393.595 169.8 Q394.567 168.967 395.748 165.865 L396.512 163.921 L386.026 138.412 L390.54 138.412 L398.641 158.689 L406.743 138.412 L411.257 138.412 L399.868 166.745 Z\" fill=\"#000000\" fill-rule=\"evenodd\" fill-opacity=\"1\" /><path clip-path=\"url(#clip330)\" d=\"M418.549 160.402 L426.188 160.402 L426.188 134.037 L417.877 135.703 L417.877 131.444 L426.141 129.778 L430.817 129.778 L430.817 160.402 L438.456 160.402 L438.456 164.338 L418.549 164.338 L418.549 160.402 Z\" fill=\"#000000\" fill-rule=\"evenodd\" fill-opacity=\"1\" /></svg>\n"
      ]
     },
     "execution_count": 50,
     "metadata": {},
     "output_type": "execute_result"
    }
   ],
   "source": [
    "tolerance = 1e-1\n",
    "maxvars = 3\n",
    "loops = 5\n",
    "y = zeros(maxvars)\n",
    "stop = zeros(maxvars)\n",
    "startrange = 100\n",
    "allvar = [startrange-(startrange*i)^.5 for i in 0:maxvars-1]\n",
    "for numvar in 1:maxvars\n",
    "    for _ in 1:loops\n",
    "        #just to show the progression\n",
    "        print(\"+\")\n",
    "        p,x = get_random_polynomial(numvar,allvar[numvar])\n",
    "        polnorm = 10\n",
    "        iterations = 0\n",
    "        #while loop that stops only when the desired tolerance is reached\n",
    "        while polnorm > tolerance\n",
    "            a,b= general_function(p,x)\n",
    "            if a == false\n",
    "                stop[numvar] += 1\n",
    "                break\n",
    "            end\n",
    "            p = p - (a*b)\n",
    "            iterations += 1\n",
    "            polnorm = get_norm(p)\n",
    "            if iterations == 40\n",
    "                stop[numvar] += 1\n",
    "                break\n",
    "            end\n",
    "        end\n",
    "        y[numvar] += iterations\n",
    "    end\n",
    "end\n",
    "y = y/loops\n",
    "println(\"Stopped: \", stop)\n",
    "plot(range(0,maxvars,length=maxvars), y)"
   ]
  },
  {
   "cell_type": "markdown",
   "metadata": {},
   "source": [
    "From this we can see that the more variables are in the start polynomial, the more times we need to loop to get to a certain threshold"
   ]
  },
  {
   "cell_type": "markdown",
   "metadata": {},
   "source": [
    "### The function below takes a polynomial with a number of variables and outputs: \n",
    "- the number of iterations needed get to a certain threshold \n",
    "- the time it took in total to reach this threshold and the approximate time it needs per iteration \n",
    "\n",
    "The variables have the same meaning as the function on top\n",
    "- iterations : records the number of iterations needed for each polynomial\n",
    "- justtime : records the time needed in total to reach the threshold for each polynomial"
   ]
  },
  {
   "cell_type": "code",
   "execution_count": 20,
   "metadata": {
    "scrolled": false
   },
   "outputs": [
    {
     "name": "stdout",
     "output_type": "stream",
     "text": [
      "Taking a polynomial with 1 vars: \n",
      "Needed to go through 5.0 iterations taking 0.044502973556518555s total.\n",
      "It is 0.008900594711303712s/iteration\n",
      "Taking a polynomial with 2 vars: \n",
      "Needed to go through 8.0 iterations taking 0.7049579620361328s total.\n",
      "It is 0.0881197452545166s/iteration\n",
      "Taking a polynomial with 3 vars: \n",
      "Needed to go through 12.0 iterations taking 11.579009056091309s total.\n",
      "It is 0.9649174213409424s/iteration\n"
     ]
    }
   ],
   "source": [
    "\n",
    "#needs adjusting\n",
    "tolerance = 1e-5\n",
    "maxvars = 3\n",
    "stop = zeros(maxvars)\n",
    "iterations = zeros(maxvars)\n",
    "justtime = zeros(maxvars)\n",
    "for numvar in 1:maxvars\n",
    "    p,x = get_random_polynomial(numvar,10)\n",
    "    polnorm = 10\n",
    "    t = time()\n",
    "    while polnorm > tolerance\n",
    "        a,b= general_function(p,x)\n",
    "        if a == false\n",
    "            stop[numvar] += 1\n",
    "            break\n",
    "        end\n",
    "        p = p - (a*b)\n",
    "        iterations[numvar] += 1\n",
    "        polnorm = get_norm(p)\n",
    "        if iterations[numvar] == 40\n",
    "            stop[numvar] += 1\n",
    "            break\n",
    "        end\n",
    "    end\n",
    "    justtime[numvar] += time() - t\n",
    "end\n",
    "\n",
    "for i in 1:maxvars\n",
    "    println(\"Taking a polynomial with \",i,\" vars: \")\n",
    "    if stop[i] == 1\n",
    "        println(\"It was not able to reach \",tolerance,\" within \",iterations[i],\" iterations.\")\n",
    "    else\n",
    "        println(\"Needed to go through \",iterations[i],\" iterations taking \",justtime[i],\"s total.\")\n",
    "        println(\"It is \",justtime[i]/iterations[i],\"s/iteration\")\n",
    "    end\n",
    "end"
   ]
  },
  {
   "cell_type": "markdown",
   "metadata": {},
   "source": [
    "from this we can see that the more variables we use the more time it takes <br>\n",
    "it is about 10x more seconds per iterations per variable"
   ]
  },
  {
   "cell_type": "markdown",
   "metadata": {},
   "source": [
    "The function below does the the same as general_function but it also tries with a2=1 and compares the values to find the best solution. <br>\n",
    "It is the same principle as the general_function but for a1=1 all the variables have a 1 after their name and for a2=1 they have a 2."
   ]
  },
  {
   "cell_type": "code",
   "execution_count": 27,
   "metadata": {},
   "outputs": [
    {
     "data": {
      "text/plain": [
       "simplallboth (generic function with 1 method)"
      ]
     },
     "execution_count": 27,
     "metadata": {},
     "output_type": "execute_result"
    }
   ],
   "source": [
    "function general_functionbis(originalpolynomial, x)\n",
    "    #setup the starting variables\n",
    "    numberofa = nvariables(originalpolynomial)\n",
    "    \n",
    "    #setup our varibales to create the function to minimise and set a1=1\n",
    "    @var a[1:numberofa] b[1:numberofa+1]\n",
    "    \n",
    "    #get the equations for our function to minimise\n",
    "    alpha = x[1] + sum([a[i]*x[i+1] for i in 1:numberofa-1]) + a[numberofa]\n",
    "    beta = sum([b[i]*x[i] for i in 1:numberofa]) + b[numberofa+1]\n",
    "    p1 = alpha*beta\n",
    "    \n",
    "    alpha = a[1]*x[1] + x[2] + sum([a[i]*x[i+1] for i in 2:numberofa-1]) + a[numberofa]\n",
    "    beta = sum([b[i]*x[i] for i in 1:numberofa]) + b[numberofa+1]\n",
    "    p2 = alpha*beta\n",
    "    \n",
    "    #find our a1,...,bn coefficients\n",
    "    coefsinp1 = coefficients(p1)\n",
    "    coefsinp2 = coefficients(p2)\n",
    "    #Get our coeffs from originalpolynomial\n",
    "    coeffs = MultivariatePolynomials.coefficients(originalpolynomial)\n",
    "    numberofcoeffs = length(coeffs)\n",
    "    \n",
    "    #setup the function to minimise\n",
    "    mainfunc1 = sum([(coeffs[i] - (coefsinp1[i]))^2 for i in 1:numberofcoeffs])\n",
    "    mainfunc2 = sum([(coeffs[i] - (coefsinp2[i]))^2 for i in 1:numberofcoeffs])\n",
    "    \n",
    "    #get the gradient\n",
    "    J1 = differentiate(mainfunc1, vcat(a,b)) # vcat(a,b) : concat of vars a and b\n",
    "    J2 = differentiate(mainfunc2, vcat(a,b))\n",
    "    \n",
    "    #set a system\n",
    "    system1 = System(J1; variables = vcat(a,b))\n",
    "    system2 = System(J2; variables = vcat(a,b))\n",
    "    \n",
    "    #solve the system and get the real solutions\n",
    "    result1 = solve(system1; show_progress= false)\n",
    "    real_sols1 = real_solutions(result1; tol=1e-5)\n",
    "    result2 = solve(system2; show_progress= false)\n",
    "    real_sols2 = real_solutions(result2; tol=1e-5)\n",
    "    \n",
    "    #test if there are results, if not return false\n",
    "    sol = [true, true]\n",
    "    if real_sols1 == []\n",
    "        sol[1] = false\n",
    "    end\n",
    "    if real_sols2 == []\n",
    "        sol[2] = false\n",
    "    end\n",
    "    if ! sol[1] && ! sol[2]\n",
    "        return false,0\n",
    "    end\n",
    "        \n",
    "    #find the minimum point using the function that we want to minimize \n",
    "    if sol[1]\n",
    "        minval1, minindex1 = findmin(map(s -> evaluate(mainfunc1, a=>s[1:numberofa], b=>s[numberofa+1:(numberofa*2)+1]), real_sols1))\n",
    "        minarg1 = real_sols1[minindex1]  \n",
    "    end\n",
    "    if sol[2]\n",
    "        minval2, minindex2 = findmin(map(s -> evaluate(mainfunc2, a=>s[1:numberofa], b=>s[numberofa+1:(numberofa*2)+1]), real_sols2))\n",
    "        minarg2 = real_sols2[minindex2]\n",
    "    end\n",
    "    \n",
    "    #find the minimum value for the best solution\n",
    "    if sol[1] && sol[2]\n",
    "        if minval1 < minval2\n",
    "            sol[2] = false\n",
    "        end\n",
    "        sol[1] = false\n",
    "    end\n",
    "    \n",
    "    if sol[1]\n",
    "        alphaout = x[1] + sum([x[i+1]*minarg1[i] for i in 1:numberofa-1]) + minarg1[numberofa]\n",
    "        betaout = sum([x[i-numberofa]*minarg1[i] for i in numberofa+1:(numberofa*2)]) + minarg1[(numberofa*2)+1]\n",
    "        return alphaout, betaout\n",
    "    end\n",
    "    \n",
    "    alphaout = x[1]*minarg2[1] + x[2] + sum([x[i+1]*minarg2[i] for i in 2:numberofa-1]) + minarg2[numberofa]\n",
    "    betaout = sum([x[i-numberofa]*minarg2[i] for i in numberofa+1:(numberofa*2)]) + minarg2[(numberofa*2)+1]\n",
    "    return alphaout, betaout\n",
    "end  "
   ]
  },
  {
   "cell_type": "code",
   "execution_count": null,
   "metadata": {},
   "outputs": [],
   "source": []
  }
 ],
 "metadata": {
  "kernelspec": {
   "display_name": "Julia 1.8.4",
   "language": "julia",
   "name": "julia-1.8"
  },
  "language_info": {
   "file_extension": ".jl",
   "mimetype": "application/julia",
   "name": "julia",
   "version": "1.8.4"
  }
 },
 "nbformat": 4,
 "nbformat_minor": 4
}
