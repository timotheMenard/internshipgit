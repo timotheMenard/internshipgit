{
 "cells": [
  {
   "cell_type": "code",
   "execution_count": 2,
   "metadata": {},
   "outputs": [],
   "source": [
    "using HomotopyContinuation, DynamicPolynomials\n",
    "using Plots"
   ]
  },
  {
   "cell_type": "code",
   "execution_count": 3,
   "metadata": {},
   "outputs": [
    {
     "data": {
      "text/plain": [
       "get_norm (generic function with 1 method)"
      ]
     },
     "execution_count": 3,
     "metadata": {},
     "output_type": "execute_result"
    }
   ],
   "source": [
    "#generates a random number between -n and n\n",
    "function genrand(n)\n",
    "    return rand()*n*2 - n\n",
    "end\n",
    "\n",
    "@polyvar x y\n",
    "#creates a random polynomial with coeffcients between -n and n\n",
    "function get_random_polynomial(n)\n",
    "    p = MultivariatePolynomials.polynomial([genrand(n), genrand(n), genrand(n), genrand(n), genrand(n), genrand(n)], [x^2, x, x*y, y, y^2, 1])\n",
    "    return p\n",
    "end\n",
    "\n",
    "#takes the norm of a polynomial by squarring the coefficients\n",
    "function get_norm(p)\n",
    "    normop = norm(MultivariatePolynomials.coefficients(p, [x^2, x, x*y, y, y^2, 1]))\n",
    "    return normop\n",
    "end"
   ]
  },
  {
   "cell_type": "markdown",
   "metadata": {},
   "source": [
    "## This notebook compares the polynomial simplification function by either using the groebner basis or by using a function to minimise\n",
    "### The function below uses groebner basis to find the coefficients then the minimise function to find the a1,...,b3 \n",
    "This is the one that is not able to find a solution, from the test below."
   ]
  },
  {
   "cell_type": "code",
   "execution_count": 4,
   "metadata": {},
   "outputs": [
    {
     "data": {
      "text/plain": [
       "getalphabetatry (generic function with 1 method)"
      ]
     },
     "execution_count": 4,
     "metadata": {},
     "output_type": "execute_result"
    }
   ],
   "source": [
    "function groebn_then_mini(p)\n",
    "    \n",
    "    #Put in u0 the coefs we have for our point\n",
    "    u₀ = MultivariatePolynomials.coefficients(p, [x^2, x, x*y, y, y^2, 1])\n",
    "    \n",
    "    #Using HomotopyContinuation to find optimal solution\n",
    "    @var c1 c2 c3 c4 c5 c6\n",
    "    @var u[1:6] λ[1:1]\n",
    "    f = c1*c4^2 - 4*c1*c5*c6 + c2^2*c5 - c2*c3*c4 + c3^2*c6\n",
    "\n",
    "    J = differentiate([f], [c1,c2,c3,c4,c5,c6])\n",
    "    C = System([[c1,c2,c3,c4,c5,c6] - u - J'*λ; f], variables = [c1;c2;c3;c4;c5;c6;λ], parameters = u)\n",
    "    #We get the solutions\n",
    "    solution = HomotopyContinuation.solve(C; target_parameters = u₀, show_progress= false)\n",
    "    real_sols = real_solutions(solution; tol=1e-5)\n",
    "    #stops if it cant find real solutions anymore to avoid an error\n",
    "    if real_sols == []\n",
    "        return false, 0\n",
    "    end\n",
    "    \n",
    "    #We take only the real solutions\n",
    "    ed_points = map(p -> p[1:6], real_sols)\n",
    "\n",
    "    \n",
    "    #find optimal c1,...,c6 \n",
    "    _, idx = findmin([norm(x - u₀) for x in ed_points])  \n",
    "    c1d,c2d,c3d,c4d,c5d,c6d = ed_points[idx]\n",
    "    \n",
    "    #use our minimise function to find the a1...b3\n",
    "    @var a1 a2 a3 b1 b2 b3\n",
    "    f = (c1d - a1*b1)^2 + (c2d - a1*b3 - a3*b1)^2 + (c3d - a1*b2 - a2*b1)^2 + (c4d - a2*b3 - a3*b2)^2 + (c5d - a2*b2)^2 + (c6d - a3*b3)^2\n",
    "    \n",
    "    #find the gradient\n",
    "    J = differentiate(f, [a1,a2,a3,b1,b2,b3])\n",
    "    #push in J the linear function\n",
    "    eq = genrand(5)*a1 + genrand(5)*a2 + genrand(5)*a3 + genrand(5)*b1 + genrand(5)*b2 + genrand(5)*b3 + genrand(5)\n",
    "    push!(J, eq)\n",
    "    \n",
    "    #set the system and find the results\n",
    "    system = System(J; variables = [a1,a2,a3,b1,b2,b3])\n",
    "    \n",
    "    result = HomotopyContinuation.solve(system; show_progress= false)\n",
    "\n",
    "    real_sols = real_solutions(result; tol=1e-5)\n",
    "\n",
    "    \n",
    "    function mf(v)\n",
    "        a1, a2, a3, b1, b2, b3 = v\n",
    "        return (c1d - a1*b1)^2 + (c2d - a1*b3 - a3*b1)^2 + (c3d - a1*b2 - a2*b1)^2 + (c4d - a2*b3 - a3*b2)^2 + (c5d - a2*b2)^2 + (c6d - a3*b3)^2\n",
    "    end\n",
    "    #get the minimum solution and output\n",
    "    minval, minindex = findmin(map(s -> mf(s[1:6]), real_sols))\n",
    "\n",
    "    a = real_sols[minindex][1:6]\n",
    "    \n",
    "    alpha = (a[1] * x + a[2] * y + a[3])\n",
    "    beta = (a[3] * x + a[4] * y + a[5])\n",
    "    \n",
    "    return alpha, beta\n",
    "    \n",
    "end"
   ]
  },
  {
   "cell_type": "markdown",
   "metadata": {},
   "source": [
    "Function below takes a random polynomial then loops it and every loop it ouputs: <br>\n",
    "i : norm <br>\n",
    "Where i is the number of the loop and norm is the norm of the polynomial at that loop number. <br>\n",
    "From the results there we can see that the norm grows instead of diminishing."
   ]
  },
  {
   "cell_type": "code",
   "execution_count": 5,
   "metadata": {
    "scrolled": true
   },
   "outputs": [
    {
     "name": "stderr",
     "output_type": "stream",
     "text": [
      "\r",
      "\u001b[32mComputing mixed cells... 14 \t Time: 0:00:00\u001b[39m\r\n",
      "\u001b[34m  mixed_volume:  90\u001b[39m\n"
     ]
    },
    {
     "name": "stdout",
     "output_type": "stream",
     "text": [
      "1: 31.533274588253832\n",
      "2: 169.12640097105103\n",
      "3: 169.35656222549602\n",
      "4: 171.4808346946532\n",
      "5: 171.3602829342806\n",
      "6: 294.6513429063386\n",
      "7: 297.6979402151545\n",
      "8: 519.2594325217102\n",
      "9: 1622.3721304718224\n",
      "10: 3338.0024211093837\n"
     ]
    }
   ],
   "source": [
    "p = get_random_polynomial(10)\n",
    "for i in 1:10\n",
    "    a,b=groebn_then_mini(p)\n",
    "    p = p - (a*b)\n",
    "    println(i, \": \", get_norm(p))\n",
    "end"
   ]
  },
  {
   "cell_type": "markdown",
   "metadata": {},
   "source": [
    "### The function below uses the minimise function but instead of setting a1=1 we add the linear function of the a1,...,b3.\n",
    "This function probably has the same problem as the one above"
   ]
  },
  {
   "cell_type": "code",
   "execution_count": 9,
   "metadata": {},
   "outputs": [
    {
     "data": {
      "text/plain": [
       "groebner (generic function with 1 method)"
      ]
     },
     "execution_count": 9,
     "metadata": {},
     "output_type": "execute_result"
    }
   ],
   "source": [
    "function groebner(p,n)    \n",
    "    \n",
    "    c = MultivariatePolynomials.coefficients(p, [x^2, x, x*y, y, y^2, 1])\n",
    "    \n",
    "    @var a1 a2 a3 b1 b2 b3\n",
    "    f = (c[1] - a1*b1)^2 + (c[2] - a1*b3 - a3*b1)^2 + (c[3] - a1*b2 - a2*b1)^2 + (c[4] - a2*b3 - a3*b2)^2 + (c[5] - a2*b2)^2 + (c[6] - a3*b3)^2\n",
    "    \n",
    "    #get the gradient\n",
    "    J = differentiate(f, [a1,a2,a3,b1,b2,b3])\n",
    "    #push in J the linear function\n",
    "    eq = genrand(n)*a1 + genrand(n)*a2 + genrand(n)*a3 + genrand(n)*b1 + genrand(n)*b2 + genrand(n)*b3 + genrand(n)\n",
    "    push!(J, eq)\n",
    "    \n",
    "    #set the system and find the results\n",
    "    system = System(J; variables = [a1,a2,a3,b1,b2,b3])\n",
    "\n",
    "    result = solve(system; show_progress= false)\n",
    "\n",
    "    real_sols = real_solutions(result; tol=1e-5)\n",
    "\n",
    "    #stops if it cant find real solutions anymore to avoid an error\n",
    "    if real_sols == []\n",
    "        return false, 0\n",
    "    end\n",
    "    \n",
    "    function mf(v)\n",
    "        a1, a2, a3, b1, b2, b3 = v\n",
    "        return (c[1] - a1*b1)^2 + (c[2] - a1*b3 - a3*b1)^2 + (c[3] - a1*b2 - a2*b1)^2 + (c[4] - a2*b3 - a3*b2)^2 + (c[5] - a2*b2)^2 + (c[6] - a3*b3)^2\n",
    "    end\n",
    "    \n",
    "    #we find the minimum and output the answer\n",
    "    _, minindex = findmin(map(s -> mf(s[1:6]), real_sols))\n",
    "    \n",
    "\n",
    "    a = real_sols[minindex][1:6]\n",
    "\n",
    "    alpha = (a[1] * x + a[2] * y + a[3])\n",
    "    beta = (a[3] * x + a[4] * y + a[5])\n",
    "    \n",
    "    return alpha, beta\n",
    "end"
   ]
  },
  {
   "cell_type": "markdown",
   "metadata": {},
   "source": [
    "Function below uses same principal as one up top, to see the progression of the norms as the function loops. <br>\n",
    "Does not seem to work as well."
   ]
  },
  {
   "cell_type": "code",
   "execution_count": 8,
   "metadata": {},
   "outputs": [
    {
     "name": "stdout",
     "output_type": "stream",
     "text": [
      "1: 8.16579323631429\n",
      "2: 12.228605048245754\n",
      "3: 20.51023309294352\n",
      "4: 20.769797449059176\n",
      "5: 25.75191646126316\n",
      "6: 97.44109604380992\n",
      "7: 110.83603233752828\n",
      "8: 543.1971381860117\n",
      "9: 543.2463092156752\n",
      "10: 1570.6308204790314\n"
     ]
    }
   ],
   "source": [
    "p = get_random_polynomial(10)\n",
    "for i in 1:10\n",
    "    a,b=groebner(p,10)\n",
    "    p = p - (a*b)\n",
    "    println(i, \": \", get_norm(p))\n",
    "end"
   ]
  },
  {
   "cell_type": "markdown",
   "metadata": {},
   "source": [
    "### The function below just uses the minimise function with a1=1 and then a2=1 and then outputs the best result"
   ]
  },
  {
   "cell_type": "code",
   "execution_count": 17,
   "metadata": {},
   "outputs": [
    {
     "data": {
      "text/plain": [
       "just_minimise (generic function with 1 method)"
      ]
     },
     "execution_count": 17,
     "metadata": {},
     "output_type": "execute_result"
    }
   ],
   "source": [
    "function just_minimise(p)    \n",
    "    \n",
    "    c = MultivariatePolynomials.coefficients(p, [x^2, x, x*y, y, y^2, 1])\n",
    "    \n",
    "    #for a1 = 1\n",
    "    @var a1 a2 a3 b1 b2 b3\n",
    "    f1 = (c[1] - b1)^2 + (c[2] - b3 - a3*b1)^2 + (c[3] - b2 - a2*b1)^2 + (c[4] - a2*b3 - a3*b2)^2 + (c[5] - a2*b2)^2 + (c[6] - a3*b3)^2\n",
    "    \n",
    "    #get the gradient\n",
    "    J1 = differentiate(f1, [a2,a3,b1,b2,b3])\n",
    "    system1 = System(J1; variables = [a2,a3,b1,b2,b3])\n",
    "\n",
    "    result1 = solve(system1; show_progress= false)\n",
    "\n",
    "    real_sols1 = real_solutions(result1; tol=1e-5)\n",
    "    \n",
    "    \n",
    "    #for a2 = 1\n",
    "    f2 = (c[1] - a1*b1)^2 + (c[2] - a1*b3 - a3*b1)^2 + (c[3] - a1*b2 - b1)^2 + (c[4] - b3 - a3*b2)^2 + (c[5] - b2)^2 + (c[6] - a3*b3)^2\n",
    "    \n",
    "    #get the gradient\n",
    "    J2 = differentiate(f2, [a1,a3,b1,b2,b3])\n",
    "    system2 = System(J2; variables = [a1,a3,b1,b2,b3])\n",
    "\n",
    "    result2 = solve(system2; show_progress= false)\n",
    "\n",
    "    real_sols2 = real_solutions(result2; tol=1e-5)\n",
    "    \n",
    "    #checks if we have any solution\n",
    "    sol=[true,true]\n",
    "    if real_sols1 == []\n",
    "        sol[1] = false\n",
    "    end\n",
    "    if real_sols2 == []\n",
    "        sol[2] = false\n",
    "    end\n",
    "    if ! sol[1] && ! sol[2]\n",
    "        return false,0\n",
    "    end\n",
    "    \n",
    "    \n",
    "    function mf1(v)\n",
    "        a2, a3, b1, b2, b3 = v\n",
    "        return (c[1] - b1)^2 + (c[2] - b3 - a3*b1)^2 + (c[3] - b2 - a2*b1)^2 + (c[4] - a2*b3 - a3*b2)^2 + (c[5] - a2*b2)^2 + (c[6] - a3*b3)^2\n",
    "    end\n",
    "    \n",
    "    function mf2(v)\n",
    "        a1, a3, b1, b2, b3 = v\n",
    "        return (c[1] - a1*b1)^2 + (c[2] - a1*b3 - a3*b1)^2 + (c[3] - a1*b2 - b1)^2 + (c[4] - b3 - a3*b2)^2 + (c[5] - b2)^2 + (c[6] - a3*b3)^2\n",
    "    end\n",
    "    \n",
    "    if sol[1]\n",
    "        minval1, minindex1 = findmin(map(s -> mf1(s[1:5]), real_sols1))\n",
    "        minarg1 = real_sols1[minindex1][1:5]\n",
    "    end\n",
    "    if sol[2]\n",
    "        minval2, minindex2 = findmin(map(t -> mf2(t[1:5]), real_sols2))\n",
    "        minarg2 = real_sols2[minindex2][1:5]\n",
    "    end\n",
    "    \n",
    "    #find the minimum value for the best solution\n",
    "    if sol[1] && sol[2]\n",
    "        if minval1 < minval2\n",
    "            sol[2] = false\n",
    "        end\n",
    "        sol[1] = false\n",
    "    end\n",
    "    \n",
    "    if sol[1]\n",
    "        alpha = (x + minarg1[1] * y + minarg1[2])\n",
    "        beta = (minarg1[3] * x + minarg1[4] * y + minarg1[5])\n",
    "        return alpha, beta\n",
    "    end\n",
    "        \n",
    "    alpha = (minarg2[1]*x + y + minarg2[2])\n",
    "    beta = (minarg2[3] * x + minarg2[4] * y + minarg2[5])\n",
    "    return alpha, beta\n",
    "end"
   ]
  },
  {
   "cell_type": "markdown",
   "metadata": {},
   "source": [
    "Function below uses same principal as one up top, to see the progression of the norms as the function loops. <br>\n",
    "Does work very well."
   ]
  },
  {
   "cell_type": "code",
   "execution_count": 18,
   "metadata": {
    "scrolled": true
   },
   "outputs": [
    {
     "name": "stdout",
     "output_type": "stream",
     "text": [
      "1: 1.8957243771010666\n",
      "2: 0.5232564169540154\n",
      "3: 0.08081984855461148\n",
      "4: 0.00444937584389439\n",
      "5: 0.0010260717568722146\n",
      "6: 6.412832002894489e-5\n",
      "7: 1.3199998404992888e-6\n",
      "8: 1.2567710936868342e-8\n",
      "9: 1.5744331880570605e-9\n",
      "10: 7.211617588799882e-12\n"
     ]
    }
   ],
   "source": [
    "p = get_random_polynomial(10)\n",
    "for i in 1:10\n",
    "    a,b=just_minimise(p)\n",
    "    p = p - (a*b)\n",
    "    println(i, \": \", get_norm(p))\n",
    "end\n",
    "#from we can see this way of doing it works using either a1=1 or a2=1 (using the minimise function)"
   ]
  },
  {
   "cell_type": "markdown",
   "metadata": {},
   "source": [
    "### The function below uses groebner to find the coefficients and then minimise function with a1=1 and a2=1 to find the a1,...,b3 then outputs the best result\n",
    "function is not really important"
   ]
  },
  {
   "cell_type": "code",
   "execution_count": 21,
   "metadata": {},
   "outputs": [
    {
     "data": {
      "text/plain": [
       "ngroebner_mini (generic function with 1 method)"
      ]
     },
     "execution_count": 21,
     "metadata": {},
     "output_type": "execute_result"
    }
   ],
   "source": [
    "function ngroebner_mini(p)\n",
    "    \n",
    "    #Put in u0 the coefs we have for our point\n",
    "    u₀ = MultivariatePolynomials.coefficients(p, [x^2, x, x*y, y, y^2, 1])\n",
    "    \n",
    "    #Using HomotopyContinuation to find optimal solution\n",
    "    @var c1 c2 c3 c4 c5 c6\n",
    "    @var u[1:6] λ[1:1]\n",
    "    f = c1*c4^2 - 4*c1*c5*c6 + c2^2*c5 - c2*c3*c4 + c3^2*c6\n",
    "\n",
    "    J = differentiate([f], [c1,c2,c3,c4,c5,c6])\n",
    "    C = System([[c1,c2,c3,c4,c5,c6] - u - J'*λ; f], variables = [c1;c2;c3;c4;c5;c6;λ], parameters = u)\n",
    "    #We get the solutions\n",
    "    solution = HomotopyContinuation.solve(C; target_parameters = u₀, show_progress= false)\n",
    "    real_sols = real_solutions(solution; tol=1e-5)\n",
    "    #stops if it cant find real solutions anymore to avoid an error\n",
    "    if real_sols == []\n",
    "        return false, 0\n",
    "    end\n",
    "    \n",
    "    #We take only the real solutions\n",
    "    ed_points = map(p -> p[1:6], real_sols)\n",
    "\n",
    "    #find optimal c1,...,c6 \n",
    "    _, idx = findmin([norm(x - u₀) for x in ed_points])  \n",
    "    c1d,c2d,c3d,c4d,c5d,c6d = ed_points[idx]\n",
    "    \n",
    "    #for a1 = 1\n",
    "    @var a1 a2 a3 b1 b2 b3\n",
    "    f1 = (c1d - b1)^2 + (c2d - b3 - a3*b1)^2 + (c3d - b2 - a2*b1)^2 + (c4d - a2*b3 - a3*b2)^2 + (c5d - a2*b2)^2 + (c6d - a3*b3)^2\n",
    "    \n",
    "    #get the gradient\n",
    "    J1 = differentiate(f1, [a2,a3,b1,b2,b3])\n",
    "    system1 = System(J1; variables = [a2,a3,b1,b2,b3])\n",
    "\n",
    "    result1 = solve(system1; show_progress= false)\n",
    "\n",
    "    real_sols1 = real_solutions(result1; tol=1e-5)\n",
    "    \n",
    "    #for a2 = 1\n",
    "    f2 = (c1d - a1*b1)^2 + (c2d - a1*b3 - a3*b1)^2 + (c3d - a1*b2 - b1)^2 + (c4d - b3 - a3*b2)^2 + (c5d - b2)^2 + (c6d - a3*b3)^2\n",
    "    \n",
    "    #get the gradient\n",
    "    J2 = differentiate(f2, [a1,a3,b1,b2,b3])\n",
    "    system2 = System(J2; variables = [a1,a3,b1,b2,b3])\n",
    "\n",
    "    result2 = solve(system2; show_progress= false)\n",
    "\n",
    "    real_sols2 = real_solutions(result2; tol=1e-5)\n",
    "    \n",
    "    #checks if we have any solution\n",
    "    sol=[true,true]\n",
    "    if real_sols1 == []\n",
    "        sol[1] = false\n",
    "    end\n",
    "    if real_sols2 == []\n",
    "        sol[2] = false\n",
    "    end\n",
    "    if ! sol[1] && ! sol[2]\n",
    "        return false,0\n",
    "    end\n",
    "    \n",
    "    function mf1(v)\n",
    "        a2, a3, b1, b2, b3 = v\n",
    "        return (c1d - b1)^2 + (c2d - b3 - a3*b1)^2 + (c3d - b2 - a2*b1)^2 + (c4d - a2*b3 - a3*b2)^2 + (c5d - a2*b2)^2 + (c6d - a3*b3)^2\n",
    "    end\n",
    "    \n",
    "    function mf2(v)\n",
    "        a1, a3, b1, b2, b3 = v\n",
    "        return (c1d - a1*b1)^2 + (c2d - a1*b3 - a3*b1)^2 + (c3d - a1*b2 - b1)^2 + (c4d - b3 - a3*b2)^2 + (c5d - b2)^2 + (c6d - a3*b3)^2\n",
    "    end\n",
    "    \n",
    "    if sol[1]\n",
    "        minval1, minindex1 = findmin(map(s -> mf1(s[1:5]), real_sols1))\n",
    "        minarg1 = real_sols1[minindex1][1:5]\n",
    "    end\n",
    "    if sol[2]\n",
    "        minval2, minindex2 = findmin(map(t -> mf2(t[1:5]), real_sols2))\n",
    "        minarg2 = real_sols2[minindex2][1:5]\n",
    "    end\n",
    "    \n",
    "    #find the minimum value for the best solution\n",
    "    if sol[1] && sol[2]\n",
    "        if minval1 < minval2\n",
    "            sol[2] = false\n",
    "        end\n",
    "        sol[1] = false\n",
    "    end\n",
    "    \n",
    "    if sol[1]\n",
    "        alpha = (x + minarg1[1] * y + minarg1[2])\n",
    "        beta = (minarg1[3] * x + minarg1[4] * y + minarg1[5])\n",
    "        return alpha, beta\n",
    "    end\n",
    "        \n",
    "    alpha = (minarg2[1]*x + y + minarg2[2])\n",
    "    beta = (minarg2[3] * x + minarg2[4] * y + minarg2[5])\n",
    "    return alpha, beta\n",
    "    \n",
    "end"
   ]
  },
  {
   "cell_type": "markdown",
   "metadata": {},
   "source": [
    "Works but not as well as just using the minimise function"
   ]
  },
  {
   "cell_type": "code",
   "execution_count": 22,
   "metadata": {
    "scrolled": true
   },
   "outputs": [
    {
     "name": "stdout",
     "output_type": "stream",
     "text": [
      "1: 2.9589122324590655\n",
      "2: 0.17790183053776812\n",
      "3: 0.04090239707713159\n",
      "4: 0.028079300781755478\n",
      "5: 0.005790027829793603\n",
      "6: 0.001988539550744906\n",
      "7: 0.00019105902695931273\n",
      "8: 5.1368517052186636e-5\n",
      "9: 2.2857300066868715e-6\n",
      "10: 2.2857300066868715e-6\n"
     ]
    }
   ],
   "source": [
    "p = get_random_polynomial(10)\n",
    "for i in 1:10\n",
    "    a,b=ngroebner_mini(p)\n",
    "    p = p - (a*b)\n",
    "    println(i, \": \", get_norm(p))\n",
    "end\n",
    "#this is using groebner basis and then instead of nlsolve we use either a1=1 or a2=1 it works but\n",
    "#not as well as uing the minimise function istead of groebner"
   ]
  },
  {
   "cell_type": "markdown",
   "metadata": {},
   "source": [
    "Function that outputs the time needed for a certain number of iterations and also the resulting norm"
   ]
  },
  {
   "cell_type": "code",
   "execution_count": 24,
   "metadata": {},
   "outputs": [
    {
     "name": "stdout",
     "output_type": "stream",
     "text": [
      "++++++++++++++++++++++++++++++++++++++++In 20 iterations...\n",
      "Using minimise: \n",
      "Time: 3.32385333776474s - Norm: 3.4332317923633006e-6\n",
      "Using homotopycontinuation: \n",
      "Time: 2.772345685958862s - Norm: 7.924014699321273e-6\n",
      "[12, 20]\n"
     ]
    }
   ],
   "source": [
    "@polyvar x y\n",
    "loops = 20\n",
    "averagetime1 = 0\n",
    "averagenorm1 = 0\n",
    "s = [0,0]\n",
    "for _ in 1:loops\n",
    "    print(\"+\")\n",
    "    p = get_random_polynomial(1000)\n",
    "    t = time()\n",
    "    for _ in 1:20\n",
    "        a,b=just_minimise(p) \n",
    "        if a == false\n",
    "            s[1] += 1\n",
    "            break\n",
    "        end\n",
    "        p = p - (a*b)  \n",
    "    end\n",
    "    averagetime1 += time() - t\n",
    "    polnorm = get_norm(p)\n",
    "    #=if polnorm > 1\n",
    "        println(\"H: \",polnorm)\n",
    "    end=#\n",
    "    averagenorm1 += polnorm\n",
    "end\n",
    "averagetime1 = averagetime1/loops\n",
    "averagenorm1 = averagenorm1/loops\n",
    "\n",
    "averagetime2 = 0\n",
    "averagenorm2 = 0\n",
    "for _ in 1:loops\n",
    "    print(\"+\")\n",
    "    c = get_random_polynomial(1000)\n",
    "    t = time()\n",
    "    for _ in 1:loops\n",
    "        a,b=ngroebner_mini(c) \n",
    "        if a == false\n",
    "            s[2] += 1\n",
    "            break\n",
    "        end\n",
    "        c = c - (a*b)  \n",
    "    end\n",
    "    averagetime2 += time() - t\n",
    "    opolnorm = get_norm(c)\n",
    "    #=if opolnorm > 1\n",
    "        println(\"O: \",opolnorm)\n",
    "    end=#\n",
    "    averagenorm2 += opolnorm\n",
    "end\n",
    "averagetime2 = averagetime2/loops\n",
    "averagenorm2 = averagenorm2/loops\n",
    "\n",
    "println(\"In \",loops, \" iterations...\")\n",
    "println(\"Using minimise: \")\n",
    "println(\"Time: \", averagetime1,\"s\", \" - Norm: \", averagenorm1)\n",
    "println(\"Using homotopycontinuation: \")\n",
    "println(\"Time: \", averagetime2,\"s\", \" - Norm: \", averagenorm2)\n",
    "println(s)"
   ]
  },
  {
   "cell_type": "code",
   "execution_count": null,
   "metadata": {},
   "outputs": [],
   "source": []
  }
 ],
 "metadata": {
  "kernelspec": {
   "display_name": "Julia 1.8.4",
   "language": "julia",
   "name": "julia-1.8"
  },
  "language_info": {
   "file_extension": ".jl",
   "mimetype": "application/julia",
   "name": "julia",
   "version": "1.8.4"
  }
 },
 "nbformat": 4,
 "nbformat_minor": 4
}
